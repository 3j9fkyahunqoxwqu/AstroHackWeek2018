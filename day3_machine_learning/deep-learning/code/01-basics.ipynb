{
 "cells": [
  {
   "cell_type": "markdown",
   "metadata": {},
   "source": [
    "# Pytorch basics"
   ]
  },
  {
   "cell_type": "markdown",
   "metadata": {},
   "source": [
    "Adapted from [Pytorch tutorial for Deep Learning researchers](https://github.com/yunjey/pytorch-tutorial) (Yunvey Choi, 2018).\n",
    "\n",
    "Used as part of Deep Learning, Gilles Louppe, 2018."
   ]
  },
  {
   "cell_type": "code",
   "execution_count": 2,
   "metadata": {},
   "outputs": [],
   "source": [
    "# Imports\n",
    "import numpy as np\n",
    "import matplotlib.pyplot as plt\n",
    "%matplotlib inline\n",
    "\n",
    "import torch \n",
    "import torchvision\n",
    "import torch.nn as nn\n",
    "import torch.utils.data as data\n",
    "import torchvision.transforms as transforms\n",
    "import torchvision.datasets as dsets\n",
    "from torch import Tensor"
   ]
  },
  {
   "cell_type": "markdown",
   "metadata": {},
   "source": [
    "# Basic autograd example 1"
   ]
  },
  {
   "cell_type": "code",
   "execution_count": 9,
   "metadata": {},
   "outputs": [],
   "source": [
    "# Create tensors.\n",
    "x = Variable(torch.Tensor([1]), requires_grad=True)\n",
    "w = Variable(torch.Tensor([2]), requires_grad=True)\n",
    "b = Variable(torch.Tensor([3]), requires_grad=True)"
   ]
  },
  {
   "cell_type": "code",
   "execution_count": 10,
   "metadata": {},
   "outputs": [
    {
     "name": "stdout",
     "output_type": "stream",
     "text": [
      "tensor([ 2.])\n",
      "tensor([ 1.])\n",
      "tensor([ 1.])\n"
     ]
    }
   ],
   "source": [
    "# Build a computational graph.\n",
    "y = w * x + b    # y = 2 * x + 3\n",
    "\n",
    "# Compute gradients.\n",
    "y.backward()\n",
    "\n",
    "# Print out the gradients.\n",
    "print(x.grad)    # x.grad = 2 \n",
    "print(w.grad)    # w.grad = 1 \n",
    "print(b.grad)    # b.grad = 1 "
   ]
  },
  {
   "cell_type": "markdown",
   "metadata": {},
   "source": [
    "# Basic autograd example 2"
   ]
  },
  {
   "cell_type": "code",
   "execution_count": 11,
   "metadata": {},
   "outputs": [
    {
     "name": "stdout",
     "output_type": "stream",
     "text": [
      "w:  Parameter containing:\n",
      "tensor([[-0.1606, -0.2023, -0.2097],\n",
      "        [-0.1739, -0.1991,  0.3709]])\n",
      "b:  Parameter containing:\n",
      "tensor([-0.4924,  0.3264])\n"
     ]
    }
   ],
   "source": [
    "# Create tensors.\n",
    "x = Variable(torch.randn(5, 3))\n",
    "y = Variable(torch.randn(5, 2))\n",
    "\n",
    "# Build a linear layer.\n",
    "linear = nn.Linear(3, 2)\n",
    "print('w: ', linear.weight)\n",
    "print('b: ', linear.bias)"
   ]
  },
  {
   "cell_type": "code",
   "execution_count": 12,
   "metadata": {},
   "outputs": [
    {
     "name": "stdout",
     "output_type": "stream",
     "text": [
      "tensor([[-0.8493,  0.6611],\n",
      "        [-0.0285, -0.1789],\n",
      "        [-0.4383,  0.2935],\n",
      "        [-1.1135,  0.8354],\n",
      "        [-0.8782,  0.3771]])\n"
     ]
    }
   ],
   "source": [
    "# Forward propagation.\n",
    "pred = linear(x)\n",
    "print(pred)"
   ]
  },
  {
   "cell_type": "code",
   "execution_count": 16,
   "metadata": {},
   "outputs": [
    {
     "name": "stdout",
     "output_type": "stream",
     "text": [
      "loss:  tensor(0.9233)\n"
     ]
    }
   ],
   "source": [
    "# Build Loss and Optimizer.\n",
    "criterion = nn.MSELoss()\n",
    "optimizer = torch.optim.SGD(linear.parameters(), lr=0.01)\n",
    "\n",
    "# Compute loss.\n",
    "loss = criterion(pred, y)\n",
    "print('loss: ', loss)"
   ]
  },
  {
   "cell_type": "code",
   "execution_count": 17,
   "metadata": {},
   "outputs": [
    {
     "name": "stdout",
     "output_type": "stream",
     "text": [
      "dL/dw:  tensor([[ 0.0411, -0.4861, -0.1422],\n",
      "        [-0.4637,  0.7247,  0.3509]])\n",
      "dL/db:  tensor([-0.6549, -0.0802])\n"
     ]
    }
   ],
   "source": [
    "# Backpropagation.\n",
    "loss.backward()\n",
    "\n",
    "# Print out the gradients.\n",
    "print ('dL/dw: ', linear.weight.grad) \n",
    "print ('dL/db: ', linear.bias.grad)"
   ]
  },
  {
   "cell_type": "code",
   "execution_count": 23,
   "metadata": {},
   "outputs": [
    {
     "name": "stdout",
     "output_type": "stream",
     "text": [
      "loss after 1 step optimization:  tensor(0.8351)\n"
     ]
    }
   ],
   "source": [
    "# 1-step Optimization (gradient descent).\n",
    "optimizer.step()\n",
    "\n",
    "# You can also do optimization at the low level as shown below.\n",
    "# linear.weight.data.sub_(0.01 * linear.weight.grad.data)\n",
    "# linear.bias.data.sub_(0.01 * linear.bias.grad.data)\n",
    "\n",
    "# Print out the loss after optimization.\n",
    "pred = linear(x)\n",
    "loss = criterion(pred, y)\n",
    "print('loss after 1 step optimization: ', loss)"
   ]
  },
  {
   "cell_type": "markdown",
   "metadata": {},
   "source": [
    "# Load data from numpy"
   ]
  },
  {
   "cell_type": "code",
   "execution_count": 24,
   "metadata": {},
   "outputs": [],
   "source": [
    "a = np.array([[1,2], [3,4]])\n",
    "b = torch.from_numpy(a)      # convert numpy array to torch tensor\n",
    "c = b.numpy()                # convert torch tensor to numpy array"
   ]
  },
  {
   "cell_type": "markdown",
   "metadata": {},
   "source": [
    "# Implementing the input pipeline"
   ]
  },
  {
   "cell_type": "code",
   "execution_count": 25,
   "metadata": {},
   "outputs": [
    {
     "name": "stdout",
     "output_type": "stream",
     "text": [
      "Files already downloaded and verified\n"
     ]
    }
   ],
   "source": [
    "# Download and construct dataset.\n",
    "train_dataset = dsets.CIFAR10(root='./data/',\n",
    "                              train=True, \n",
    "                              transform=transforms.ToTensor(),\n",
    "                              download=True)"
   ]
  },
  {
   "cell_type": "code",
   "execution_count": 26,
   "metadata": {},
   "outputs": [
    {
     "name": "stdout",
     "output_type": "stream",
     "text": [
      "torch.Size([3, 32, 32])\n",
      "7\n"
     ]
    }
   ],
   "source": [
    "# Select one data pair (read data from disk).\n",
    "image, label = train_dataset[7]\n",
    "print(image.size())\n",
    "print(label)"
   ]
  },
  {
   "cell_type": "code",
   "execution_count": 27,
   "metadata": {},
   "outputs": [
    {
     "data": {
      "text/plain": [
       "<matplotlib.image.AxesImage at 0x7f12d71fe6a0>"
      ]
     },
     "execution_count": 27,
     "metadata": {},
     "output_type": "execute_result"
    },
    {
     "data": {
      "image/png": "[encoded data removed]",
      "text/plain": [
       "<Figure size 432x288 with 1 Axes>"
      ]
     },
     "metadata": {},
     "output_type": "display_data"
    }
   ],
   "source": [
    "plt.imshow(image.numpy()[0])"
   ]
  },
  {
   "cell_type": "code",
   "execution_count": null,
   "metadata": {},
   "outputs": [],
   "source": [
    "# Data Loader (this provides queue and thread in a very simple way).\n",
    "train_loader = torch.utils.data.DataLoader(dataset=train_dataset,\n",
    "                                           batch_size=100, \n",
    "                                           shuffle=True,\n",
    "                                           num_workers=2)\n",
    "\n",
    "# When iteration starts, queue and thread start to load dataset from files.\n",
    "data_iter = iter(train_loader)\n",
    "\n",
    "# Mini-batch images and labels.\n",
    "images, labels = data_iter.next()\n",
    "\n",
    "# Actual usage of data loader is as below.\n",
    "for images, labels in train_loader:\n",
    "    # Your training code will be written here\n",
    "    pass"
   ]
  },
  {
   "cell_type": "markdown",
   "metadata": {},
   "source": [
    "# Input pipeline for custom dataset"
   ]
  },
  {
   "cell_type": "code",
   "execution_count": null,
   "metadata": {},
   "outputs": [],
   "source": [
    "# You should build custom dataset as below.\n",
    "class CustomDataset(data.Dataset):\n",
    "    def __init__(self):\n",
    "        # TODO\n",
    "        # 1. Initialize file path or list of file names. \n",
    "        pass\n",
    "    def __getitem__(self, index):\n",
    "        # TODO\n",
    "        # 1. Read one data from file (e.g. using numpy.fromfile, PIL.Image.open).\n",
    "        # 2. Preprocess the data (e.g. torchvision.Transform).\n",
    "        # 3. Return a data pair (e.g. image and label).\n",
    "        pass\n",
    "    def __len__(self):\n",
    "        # You should change 0 to the total size of your dataset.\n",
    "        return 0 \n",
    "\n",
    "# Then, you can just use prebuilt torch's data loader. \n",
    "custom_dataset = CustomDataset()\n",
    "train_loader = torch.utils.data.DataLoader(dataset=custom_dataset,\n",
    "                                           batch_size=100, \n",
    "                                           shuffle=True,\n",
    "                                           num_workers=2)"
   ]
  },
  {
   "cell_type": "markdown",
   "metadata": {},
   "source": [
    "# Using pretrained model"
   ]
  },
  {
   "cell_type": "code",
   "execution_count": 28,
   "metadata": {},
   "outputs": [],
   "source": [
    "# Download and load pretrained resnet.\n",
    "resnet = torchvision.models.resnet18(pretrained=True)\n",
    "\n",
    "# If you want to finetune only top layer of the model.\n",
    "for param in resnet.parameters():\n",
    "    param.requires_grad = False\n",
    "    \n",
    "# Replace top layer for finetuning.\n",
    "resnet.fc = nn.Linear(resnet.fc.in_features, 100)  # 100 is for example."
   ]
  },
  {
   "cell_type": "code",
   "execution_count": 29,
   "metadata": {},
   "outputs": [
    {
     "name": "stdout",
     "output_type": "stream",
     "text": [
      "51300\n"
     ]
    }
   ],
   "source": [
    "def count_parameters(model):\n",
    "    return sum(p.numel() for p in model.parameters() if p.requires_grad)\n",
    "\n",
    "print(count_parameters(resnet))"
   ]
  },
  {
   "cell_type": "code",
   "execution_count": 30,
   "metadata": {},
   "outputs": [
    {
     "name": "stdout",
     "output_type": "stream",
     "text": [
      "tensor([[-6.1075e-01,  7.0930e-02,  2.6105e-01, -6.7475e-01,  6.3653e-01,\n",
      "          1.2123e+00,  4.2108e-01, -8.8963e-01, -1.3060e+00,  4.1609e-01,\n",
      "          1.1532e+00,  4.9391e-01, -4.3752e-01, -1.1471e+00,  2.3653e-01,\n",
      "         -7.0296e-01, -1.7490e+00, -6.7773e-01,  1.3543e-01,  1.4686e-01,\n",
      "         -2.6193e-01, -2.7555e-01, -9.3959e-01, -1.2435e-01,  7.6445e-01,\n",
      "          3.2169e-01,  1.1246e-01,  6.2941e-01, -1.0844e+00,  1.4906e-01,\n",
      "         -5.5501e-01,  5.3076e-01,  8.0745e-01, -1.0190e+00, -3.0159e-02,\n",
      "          4.6869e-01, -4.1443e-01,  2.7649e-01, -1.1812e-01,  4.2097e-01,\n",
      "          2.0254e-01, -4.7321e-01, -7.0366e-01, -6.0260e-01, -4.0150e-01,\n",
      "          8.6344e-01,  8.4182e-01,  8.4273e-01, -1.2438e-01, -1.3241e-01,\n",
      "         -1.4839e+00,  5.9488e-01, -1.1306e+00,  6.8635e-01,  7.5239e-01,\n",
      "         -2.0169e-01, -8.4294e-01,  3.0718e-01,  1.5249e-01,  2.3007e-01,\n",
      "         -4.5041e-01, -4.0602e-01,  1.2089e-01, -1.7432e-02,  1.7105e+00,\n",
      "          9.1819e-01, -5.5296e-01, -5.3578e-01,  2.4292e-01,  2.2131e-01,\n",
      "          1.0194e+00,  3.5402e-01,  6.7320e-01,  5.4101e-01, -1.8176e+00,\n",
      "          5.9353e-01, -1.7632e+00,  8.2591e-01,  2.5266e-01,  1.5832e+00,\n",
      "         -6.4468e-01,  6.3849e-01,  2.2585e+00, -3.1626e-01, -4.1168e-02,\n",
      "         -7.3195e-01, -2.5642e-01, -6.4901e-01, -4.6329e-01, -4.4060e-01,\n",
      "         -9.6482e-01, -6.7621e-05, -5.3469e-01, -1.3208e+00,  4.1761e-01,\n",
      "         -1.0877e+00,  2.0714e-01, -2.7179e-01, -6.2740e-01,  1.0014e+00],\n",
      "        [-6.1207e-01,  3.4031e-01,  3.9228e-01, -1.7823e-01, -1.5103e-02,\n",
      "          6.8913e-01,  2.2283e-01, -5.1705e-01, -4.8623e-01, -5.3797e-02,\n",
      "          8.7653e-01,  2.2592e-01, -3.5033e-01,  3.5856e-02,  1.5435e-01,\n",
      "          4.3380e-01, -1.3158e+00, -6.3652e-01,  4.1549e-01,  2.4761e-01,\n",
      "         -7.1819e-01, -9.5346e-02, -2.0324e-01, -3.3337e-01, -5.5441e-02,\n",
      "         -5.2371e-01, -3.9373e-01,  2.4243e-01, -2.2262e-01,  4.4755e-01,\n",
      "         -4.4051e-01,  6.5897e-01,  6.5784e-01, -4.4417e-01, -6.2300e-01,\n",
      "          4.1604e-01, -2.9996e-02,  3.7192e-01,  7.4463e-02,  2.7859e-01,\n",
      "          2.9200e-01, -3.2298e-01, -9.5069e-01, -4.0872e-01, -9.7522e-03,\n",
      "          5.7825e-01,  9.4349e-01,  5.9386e-01,  1.7784e-01,  3.8660e-01,\n",
      "         -1.4433e+00,  5.4165e-01, -2.2902e-01, -4.2980e-02,  6.7152e-02,\n",
      "         -2.3898e-01, -4.5978e-01, -5.1598e-01,  5.9627e-01, -1.0756e-01,\n",
      "         -4.6347e-01, -6.8629e-01,  9.3912e-02,  1.2909e-02,  6.3561e-01,\n",
      "          8.8723e-01, -3.5089e-01, -6.0288e-01, -5.5787e-02,  1.4893e-01,\n",
      "          4.9936e-01,  2.3180e-01,  2.7614e-01,  3.2128e-01, -1.3081e+00,\n",
      "          2.5738e-01, -9.3956e-01,  1.5970e-01,  7.9155e-01,  1.0014e+00,\n",
      "         -3.7497e-01,  5.5166e-01,  1.3730e+00,  3.8593e-01, -9.8600e-01,\n",
      "         -7.9560e-01, -7.4185e-02, -7.5858e-01, -1.0243e+00, -7.7654e-01,\n",
      "          8.2927e-03,  4.8841e-02,  1.6452e-01, -8.6789e-01, -4.0362e-02,\n",
      "          3.7386e-02,  1.9391e-01, -4.6486e-01, -1.3750e-01,  5.4200e-01],\n",
      "        [-8.4817e-03,  9.0537e-02,  1.0563e+00, -1.4231e-01,  1.3924e-01,\n",
      "          7.2052e-01,  5.5953e-01, -7.2907e-01, -5.8971e-01,  3.6980e-01,\n",
      "          1.2861e+00,  6.2658e-01, -8.0733e-01, -1.6427e-01, -1.8013e-01,\n",
      "         -7.6062e-02, -9.3690e-01, -2.6641e-02,  4.7481e-01, -5.1607e-01,\n",
      "          3.0563e-01, -2.3130e-01, -2.7558e-01, -3.7920e-01, -2.8520e-03,\n",
      "          1.0707e-01,  1.9574e-01,  2.8417e-02, -6.0931e-01,  2.3582e-01,\n",
      "         -8.2411e-01,  3.2219e-01,  4.0612e-01, -5.0925e-01,  2.9738e-01,\n",
      "          5.6154e-01, -1.9840e-01,  6.0053e-01, -6.8590e-01,  4.4113e-01,\n",
      "         -7.2211e-01, -2.1615e-01, -2.3165e-01, -5.8103e-02, -3.6443e-01,\n",
      "          5.5257e-01,  1.0302e+00,  6.8543e-01,  1.8560e-01,  8.7671e-02,\n",
      "         -7.0289e-01,  4.8574e-01, -7.9884e-01, -1.1305e-01,  5.2163e-01,\n",
      "         -5.5742e-01, -4.6209e-01,  1.0519e-01,  7.4600e-01, -4.2554e-01,\n",
      "         -5.6913e-01, -2.1887e-01,  4.4197e-01, -5.1081e-01,  6.6883e-01,\n",
      "          6.1895e-01, -4.6939e-01, -5.3314e-01, -4.2927e-01, -1.6382e-02,\n",
      "          5.1060e-01,  2.3557e-01,  8.0229e-01,  7.9995e-01, -1.5121e+00,\n",
      "          2.0538e-01, -1.5428e+00,  1.3860e-01,  7.5954e-01,  1.1564e+00,\n",
      "         -5.6031e-01,  2.3112e-01,  1.2766e+00, -9.6145e-02, -3.6426e-01,\n",
      "         -8.6368e-01, -1.7958e-01, -9.1851e-01, -8.4540e-01, -6.5882e-01,\n",
      "         -2.3079e-01,  4.3250e-01,  2.7554e-01, -1.0709e+00,  6.0105e-02,\n",
      "          2.3099e-02,  3.4335e-01, -9.8588e-02, -5.6898e-02,  5.5014e-01],\n",
      "        [-8.7217e-01,  5.4341e-01,  2.7935e-01, -4.0686e-01, -3.3625e-01,\n",
      "          1.3271e+00, -1.9556e-01, -4.9953e-01, -9.1434e-01,  3.3420e-02,\n",
      "          9.9663e-01,  3.2002e-01, -2.6691e-01, -5.8607e-01, -1.0151e-01,\n",
      "         -1.8226e-01, -9.0416e-01, -1.7965e-01,  2.3996e-01, -2.8821e-01,\n",
      "          4.8249e-01,  3.0948e-01, -4.3748e-01,  2.1861e-01,  1.1652e-01,\n",
      "          6.1905e-01, -5.8087e-02,  6.1996e-01, -7.5083e-01, -1.9967e-01,\n",
      "         -7.6768e-01,  1.6346e-01,  7.9827e-01, -2.8242e-01,  7.1296e-02,\n",
      "          3.3109e-01, -5.9619e-01,  6.0096e-01, -1.2941e-01,  1.8318e-01,\n",
      "         -3.5210e-01,  3.6076e-01, -4.5811e-01, -3.5390e-01, -4.3594e-01,\n",
      "          6.1449e-01,  1.0821e+00,  6.8218e-01, -9.0512e-02,  7.9507e-01,\n",
      "         -1.6118e+00,  5.4651e-01, -3.7739e-01,  9.9492e-02,  3.2576e-01,\n",
      "          2.7985e-01, -8.4451e-01,  3.2889e-01,  2.9155e-01, -2.9185e-01,\n",
      "          6.5885e-01, -8.7982e-02,  3.7493e-01, -9.0935e-01,  1.6754e+00,\n",
      "          6.1015e-01, -8.0967e-01, -4.2460e-01, -3.2829e-02,  4.9201e-01,\n",
      "          1.0983e+00,  3.3035e-01,  6.0556e-01,  2.6197e-01, -1.8168e+00,\n",
      "          4.0391e-01, -1.4757e+00,  4.0826e-01,  3.9342e-01,  1.7041e+00,\n",
      "         -7.5361e-01,  4.9358e-01,  6.5480e-01,  2.2777e-01, -7.0250e-01,\n",
      "         -2.7444e-01, -6.2996e-02, -3.8425e-01, -3.5971e-01, -5.0487e-01,\n",
      "         -3.6063e-01, -2.5060e-01, -4.3640e-01, -6.0957e-01,  1.5453e-01,\n",
      "         -3.8569e-01, -6.1148e-01, -7.9792e-02, -1.5054e-01,  8.7798e-01],\n",
      "        [-1.2515e-01,  4.0520e-02,  5.7373e-01, -9.7580e-01, -2.9126e-01,\n",
      "          1.2400e+00, -3.6266e-01, -1.1607e+00, -7.9239e-01,  6.6335e-01,\n",
      "          1.4789e+00, -2.4145e-01, -3.0616e-01,  1.4177e-01,  3.6743e-02,\n",
      "         -1.0948e-01, -1.7231e+00, -7.4801e-01,  1.0697e+00, -3.1543e-01,\n",
      "         -7.3359e-01,  1.8092e-01, -2.9591e-01, -6.9732e-02,  3.0858e-01,\n",
      "         -1.0529e+00, -1.9945e-01,  9.2313e-01, -6.3616e-01,  5.5871e-02,\n",
      "         -7.6390e-01,  6.9001e-01,  6.2018e-01, -3.9201e-01, -7.6690e-01,\n",
      "          3.1994e-01,  3.9620e-03,  3.4721e-02,  2.3534e-01,  1.8629e-01,\n",
      "          2.6172e-02, -3.0566e-01, -8.9425e-01, -1.3379e-02, -5.4710e-01,\n",
      "          1.0527e+00,  1.2177e+00,  5.9303e-01, -3.3067e-01, -7.7220e-01,\n",
      "         -1.2479e+00,  5.7167e-01, -3.7666e-01, -4.3347e-01, -1.4567e-01,\n",
      "         -1.0553e+00, -7.7278e-01, -2.1793e-01,  1.2042e+00, -4.0192e-01,\n",
      "         -2.6235e-01, -6.5792e-01,  1.0185e+00, -6.4753e-01,  9.0869e-01,\n",
      "          8.2804e-01, -3.6731e-01,  4.1586e-02, -5.1021e-01, -7.2776e-01,\n",
      "          9.4610e-01,  1.6990e-01,  6.4278e-01,  3.2386e-01, -1.8444e+00,\n",
      "          1.7319e-01, -1.6792e+00,  1.3618e-02,  5.4141e-01,  1.0362e+00,\n",
      "         -1.2252e+00,  9.6666e-01,  1.3647e+00,  9.3271e-02, -5.5998e-01,\n",
      "         -2.8051e-01,  1.5576e-01, -8.4050e-01, -2.0250e+00,  1.4529e-01,\n",
      "         -3.0423e-01,  4.2526e-01, -5.8733e-01, -8.5427e-01,  3.8370e-01,\n",
      "         -8.8797e-02,  1.2501e-01, -6.5412e-01,  4.6267e-01,  6.2657e-01],\n",
      "        [-5.6360e-01, -1.0024e-01,  1.9515e-01,  3.6010e-01, -5.7940e-01,\n",
      "          9.9377e-01,  6.2148e-01, -6.3680e-01, -8.9393e-01,  5.3629e-01,\n",
      "          1.2176e+00,  3.2099e-01,  2.4705e-01, -1.6612e-01, -3.5884e-01,\n",
      "          1.8826e-01, -1.7440e+00, -8.9066e-01,  6.3418e-01,  1.9838e-01,\n",
      "          4.7158e-01,  3.4461e-01, -2.7380e-01,  3.4453e-01,  8.0487e-01,\n",
      "         -4.0343e-01, -4.0848e-01,  5.5141e-02, -2.7302e-01,  4.0276e-01,\n",
      "         -3.1861e-01, -1.2106e-01,  4.0003e-01, -1.0334e-01, -7.8720e-01,\n",
      "          4.7434e-01,  2.4828e-01,  8.5505e-01, -5.8196e-01, -7.1194e-02,\n",
      "          2.4873e-01,  3.6766e-01, -8.8137e-01, -2.4645e-01, -3.2456e-01,\n",
      "          6.7785e-01,  8.7165e-01,  6.1466e-01, -3.4265e-01,  2.4170e-02,\n",
      "         -1.2949e+00,  1.0110e-01,  2.4302e-01, -4.2170e-01,  2.1127e-01,\n",
      "         -5.0894e-01, -3.5043e-01,  5.7811e-01,  3.5219e-01, -1.2192e-01,\n",
      "          3.0213e-01,  3.1594e-01,  3.7547e-01, -4.8399e-01,  1.4861e+00,\n",
      "          4.9431e-01, -4.5440e-01, -4.5872e-01,  3.1562e-02, -3.2422e-02,\n",
      "          7.6052e-01,  4.7363e-01,  2.7726e-01,  6.2738e-01, -1.7232e+00,\n",
      "          9.2828e-02, -5.7874e-01,  9.5333e-03,  8.5064e-01,  1.0181e+00,\n",
      "          6.4792e-02,  1.1979e+00,  1.7869e+00, -5.1489e-02, -9.8907e-01,\n",
      "         -6.4801e-01, -3.2598e-01, -6.4915e-01, -1.0879e+00, -6.5597e-01,\n",
      "          2.3925e-01,  5.9139e-02,  8.2959e-02, -2.9884e-01,  3.9230e-01,\n",
      "         -1.0938e-01,  3.5106e-01,  4.3038e-02, -6.4864e-01,  3.3330e-01],\n",
      "        [-1.3367e-01,  5.2935e-02,  5.6695e-01, -4.8376e-01,  1.2919e-02,\n",
      "          1.0222e+00,  2.1611e-01, -2.4846e-01, -6.6639e-01,  4.1074e-01,\n",
      "          9.9589e-01,  7.9346e-01, -3.5025e-01, -5.7578e-01, -1.9728e-01,\n",
      "         -4.7096e-01, -6.5646e-01, -5.3086e-01,  2.9639e-01, -1.2151e-02,\n",
      "          8.3130e-02, -1.0177e+00, -2.9085e-01, -1.9579e-01,  8.9795e-01,\n",
      "         -1.2861e-01, -7.7484e-01,  3.8757e-01, -6.9225e-03, -9.6856e-02,\n",
      "         -1.1819e+00,  4.0382e-01,  3.3301e-01, -9.7362e-01, -5.6442e-01,\n",
      "          3.8444e-01, -6.4505e-01,  3.3735e-01, -8.6297e-02,  4.1049e-02,\n",
      "          6.3261e-01, -1.5310e-01, -5.4070e-01, -2.6989e-01, -2.4539e-01,\n",
      "          1.0383e-01,  2.0898e-01,  5.9854e-01, -1.1254e-01,  3.6973e-01,\n",
      "         -1.2925e+00,  4.6490e-01, -5.4752e-01,  4.2613e-01,  7.2227e-01,\n",
      "         -8.6531e-01, -3.2391e-02, -2.5884e-01,  6.6733e-01, -3.8132e-01,\n",
      "         -1.8760e-01, -6.5874e-01,  6.9991e-01, -1.0975e+00,  1.2291e+00,\n",
      "          1.1201e+00, -3.5950e-01,  1.3776e-01, -1.2037e-01, -7.5075e-01,\n",
      "          9.5585e-01,  2.0646e-01,  6.4417e-01,  4.4403e-01, -1.2533e+00,\n",
      "         -3.6013e-01, -1.9686e+00, -7.2472e-02,  5.1959e-01,  1.1908e+00,\n",
      "         -5.4860e-01,  6.2574e-01,  1.2645e+00, -2.8340e-01, -3.7297e-01,\n",
      "         -4.2502e-01,  3.2313e-01, -1.3527e+00, -1.7351e+00, -2.2751e-01,\n",
      "         -4.0113e-01, -1.9953e-01, -7.4573e-02, -6.4652e-01,  7.6712e-01,\n",
      "         -9.8031e-02,  6.0198e-01, -3.8344e-01, -3.5642e-01,  5.0639e-01],\n",
      "        [-2.9552e-01, -2.7681e-01,  2.1185e-01, -4.5999e-01, -1.3609e-01,\n",
      "          1.9962e+00, -8.4347e-01, -1.1014e+00, -1.0532e+00,  3.4545e-02,\n",
      "          1.0340e+00,  2.5558e-01, -1.1206e-02, -1.4075e-01, -7.8616e-01,\n",
      "         -5.4396e-01, -1.5988e+00, -5.6970e-02,  5.2242e-01, -2.5825e-01,\n",
      "         -9.9398e-01, -1.2209e-01, -5.8589e-01, -2.5870e-01,  2.1492e-01,\n",
      "         -8.1001e-01,  1.4980e-01,  8.9704e-01, -7.5478e-01, -6.7334e-01,\n",
      "         -9.2412e-01,  5.9611e-02,  1.0436e+00, -5.2239e-01, -5.3773e-01,\n",
      "          3.2886e-01, -3.8475e-01,  1.0796e+00, -3.0517e-01,  5.5220e-01,\n",
      "         -5.5614e-01,  3.7509e-02, -1.5676e+00,  2.2063e-01, -7.6111e-02,\n",
      "          4.2186e-01,  7.4206e-01,  1.8939e+00, -2.9234e-01,  1.3908e-01,\n",
      "         -1.5250e+00,  3.1209e-01, -3.4773e-01,  7.6555e-01,  7.0858e-02,\n",
      "         -3.5717e-01, -2.7514e-01, -2.9062e-02,  7.8003e-01, -4.3551e-01,\n",
      "         -2.2782e-01, -1.8154e-01,  1.4549e+00, -6.2137e-01,  1.4621e+00,\n",
      "          1.1594e+00, -1.0201e+00,  4.8524e-01, -2.3081e-01,  1.0770e-01,\n",
      "          6.0159e-01,  5.4923e-01,  1.6811e+00,  5.9410e-02, -2.3289e+00,\n",
      "          9.8147e-02, -2.3765e+00, -7.8287e-01,  5.7405e-01,  1.1262e+00,\n",
      "         -5.3298e-01,  8.2474e-01,  4.2015e-01, -3.3117e-01, -1.8112e-01,\n",
      "         -5.2444e-01, -2.5262e-01, -7.2822e-01, -1.4925e+00, -1.8742e-01,\n",
      "         -9.1198e-01,  4.6386e-01, -4.9842e-01, -7.0089e-01,  1.1588e+00,\n",
      "         -7.5675e-01,  4.3403e-01,  1.7586e-01, -4.1569e-02,  1.1267e+00],\n",
      "        [-7.5966e-01,  3.3948e-01, -1.5526e-01, -2.8140e-01,  4.1287e-01,\n",
      "          9.0841e-01,  5.9398e-02, -4.8670e-01, -1.0894e+00,  1.0443e+00,\n",
      "          1.4024e+00,  2.8288e-01, -3.1606e-01, -1.0431e-01,  1.5084e-01,\n",
      "          1.2908e-01, -1.2679e+00, -7.4965e-01,  2.7726e-01,  1.0231e-01,\n",
      "         -1.3473e-01,  8.1588e-02, -7.0997e-01, -4.1508e-01,  8.2797e-01,\n",
      "         -2.4704e-01, -7.7357e-01,  9.9088e-02, -3.9902e-01, -4.6814e-01,\n",
      "         -7.8092e-01,  2.9681e-01,  5.3962e-01, -2.3405e-01, -6.1430e-01,\n",
      "          8.9611e-01, -4.6195e-01,  1.0059e+00,  3.1980e-02,  7.0142e-01,\n",
      "         -3.7194e-01,  1.6980e-01,  1.7858e-01, -2.2677e-01, -4.3151e-01,\n",
      "          3.4351e-01,  4.7375e-01,  6.6661e-01,  8.2298e-01,  3.6491e-01,\n",
      "         -8.3554e-01, -1.6790e-01, -7.2467e-01, -2.2905e-01,  3.4818e-01,\n",
      "          2.0014e-01, -7.2753e-01,  1.6526e-01,  3.5734e-01, -3.4204e-01,\n",
      "          1.0104e-01, -8.3309e-01,  7.0244e-01, -6.9454e-01,  1.6882e+00,\n",
      "          8.1311e-01, -5.9497e-02,  4.5922e-01,  1.8535e-01, -2.8339e-01,\n",
      "          7.6696e-01,  4.0981e-01,  3.8274e-01,  7.4868e-01, -2.3314e+00,\n",
      "         -3.3353e-01, -1.8591e+00,  3.4328e-01,  1.0551e+00,  2.2106e+00,\n",
      "         -5.5629e-01,  9.0841e-01,  9.0744e-01,  1.6047e-01, -8.8829e-01,\n",
      "         -6.8786e-02, -4.3905e-01,  1.2652e-01, -8.7083e-01, -1.0435e-01,\n",
      "         -1.5073e-01,  4.6421e-01, -3.6796e-01, -1.0527e+00,  1.5303e-01,\n",
      "         -8.0558e-02,  1.8641e-01,  2.9582e-01, -4.6337e-01,  1.3357e-01],\n",
      "        [-4.2350e-01,  2.5856e-01,  9.5470e-02, -1.6434e-02, -2.4184e-01,\n",
      "          9.9521e-01,  2.5924e-01, -6.6632e-01, -9.7478e-01,  7.8082e-01,\n",
      "          1.2623e+00,  5.3167e-01, -5.9785e-01, -2.3445e-01, -1.4813e-01,\n",
      "         -7.9552e-01, -1.2277e+00, -3.5880e-01,  4.2666e-01,  1.7036e-01,\n",
      "         -1.8982e-01, -1.1779e-01, -2.6800e-01, -2.4251e-01,  8.1198e-01,\n",
      "         -9.4003e-01, -6.2197e-02,  1.5129e-01, -2.7615e-02,  1.6731e-01,\n",
      "         -6.6051e-01,  2.5558e-01,  5.0964e-01, -2.7064e-01,  2.5481e-01,\n",
      "          1.9194e-01, -6.2084e-01,  4.4258e-01, -5.6200e-01, -3.6375e-01,\n",
      "         -1.6055e-02,  3.9120e-01, -7.1467e-01, -6.9831e-03,  6.2359e-03,\n",
      "          8.2667e-01,  4.0093e-01,  2.1350e-01,  5.7576e-02,  1.2504e-01,\n",
      "         -1.5495e+00, -1.4201e-01, -2.2013e-01, -2.0129e-01,  9.9477e-02,\n",
      "         -9.1364e-02, -7.8785e-01, -1.5687e-01,  6.7324e-01, -2.5946e-01,\n",
      "         -1.6644e-01, -9.0724e-02,  1.5762e-01, -4.6995e-01,  1.1167e+00,\n",
      "          6.6227e-02, -3.6277e-01, -2.9389e-02, -1.9387e-01, -1.8747e-01,\n",
      "          3.4238e-01,  2.7929e-01,  7.3791e-01,  7.5862e-02, -1.4299e+00,\n",
      "          4.3013e-01, -9.2686e-01, -1.8808e-01,  4.8230e-01,  1.3477e+00,\n",
      "         -1.2965e-01,  8.8337e-01,  1.3416e+00, -5.7518e-01, -6.7640e-01,\n",
      "         -1.6179e-01,  1.8384e-01, -6.4186e-01, -1.1542e+00, -4.6302e-02,\n",
      "         -1.5459e-02,  1.1446e-01,  1.2263e-01, -1.1194e+00, -6.5592e-02,\n",
      "         -2.2180e-01, -4.1093e-02, -2.1243e-01, -5.3127e-01,  8.4440e-01]])\n"
     ]
    }
   ],
   "source": [
    "# For test.\n",
    "images = Variable(torch.randn(10, 3, 224, 224))\n",
    "outputs = resnet(images)\n",
    "print(outputs)  "
   ]
  },
  {
   "cell_type": "markdown",
   "metadata": {},
   "source": [
    "# Save and load model"
   ]
  },
  {
   "cell_type": "code",
   "execution_count": null,
   "metadata": {},
   "outputs": [],
   "source": [
    "# Save and load the entire model.\n",
    "torch.save(resnet, 'model.pkl')\n",
    "model = torch.load('model.pkl')\n",
    "\n",
    "# Save and load only the model parameters(recommended).\n",
    "torch.save(resnet.state_dict(), 'params.pkl')\n",
    "resnet.load_state_dict(torch.load('params.pkl'))"
   ]
  }
 ],
 "metadata": {
  "kernelspec": {
   "display_name": "Python 3",
   "language": "python",
   "name": "python3"
  },
  "language_info": {
   "codemirror_mode": {
    "name": "ipython",
    "version": 3
   },
   "file_extension": ".py",
   "mimetype": "text/x-python",
   "name": "python",
   "nbconvert_exporter": "python",
   "pygments_lexer": "ipython3",
   "version": "3.6.4"
  }
 },
 "nbformat": 4,
 "nbformat_minor": 2
}
